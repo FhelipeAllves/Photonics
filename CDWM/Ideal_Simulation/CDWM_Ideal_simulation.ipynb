{
 "cells": [
  {
   "cell_type": "markdown",
   "id": "24168283",
   "metadata": {},
   "source": [
    "- Project filter CDWM\n",
    "- Source: \"Cascaded Mach-Zehnder wavelength filters in silicon photonics for low loss and flat pass-band WDM (de-)multiplexing,\""
   ]
  },
  {
   "cell_type": "code",
   "execution_count": 1,
   "id": "9c7b8571",
   "metadata": {},
   "outputs": [
    {
     "name": "stderr",
     "output_type": "stream",
     "text": [
      "C:\\Users\\alves\\AppData\\Local\\Temp\\ipykernel_24408\\2964610077.py:1: DeprecationWarning: the imp module is deprecated in favour of importlib and slated for removal in Python 3.12; see the module's documentation for alternative uses\n",
      "  import sys, os, imp\n"
     ]
    }
   ],
   "source": [
    "import sys, os, imp\n",
    "import numpy as np\n",
    "import matplotlib.pyplot as plt\n",
    "from scipy.constants import c"
   ]
  },
  {
   "cell_type": "code",
   "execution_count": 2,
   "id": "85a57418",
   "metadata": {},
   "outputs": [],
   "source": [
    "lumapiFile = \"/opt/lumerical/v221/api/python/lumapi.py\"\n",
    "lumapiFile = \"C:\\\\Program Files\\\\Lumerical\\\\v221\\\\api\\\\python\\\\lumapi.py\"\n",
    "lumapi = imp.load_source(\"lumapi\", lumapiFile)\n",
    "interApi = lumapi.INTERCONNECT(hide = False)"
   ]
  },
  {
   "cell_type": "code",
   "execution_count": 3,
   "id": "bce18f88",
   "metadata": {},
   "outputs": [],
   "source": [
    "interApi.expressioncheckoff()"
   ]
  },
  {
   "cell_type": "code",
   "execution_count": 4,
   "id": "6ebdb145",
   "metadata": {},
   "outputs": [],
   "source": [
    "# units\n",
    "um = 1e-6\n",
    "nm = 1e-9\n",
    "\n",
    "central_wavelength = 1550*nm\n",
    "\n",
    "# index\n",
    "neff = 2.3531702\n",
    "ng = 4.3458796\n",
    "\n",
    "wvlngth_start = 1.500 * um\n",
    "wvlngth_stop = 1.600 * um\n",
    "\n",
    "number_of_points = 50e3"
   ]
  },
  {
   "cell_type": "code",
   "execution_count": null,
   "id": "0db09eee",
   "metadata": {},
   "outputs": [],
   "source": [
    "interApi.switchtolayout()\n",
    "interApi.select('ONA')\n",
    "interApi.delete()\n",
    "\n",
    "# ONA\n",
    "\n",
    "interApi.addelement('Optical Network Analyzer')\n",
    "interApi.set('name', 'ONA')\n",
    "interApi.set('number of input ports', 2)\n",
    "interApi.set('input parameter', 2)\n",
    "interApi.set('start frequency', c/wvlngth_start)\n",
    "interApi.set('stop frequency', c/wvlngth_stop)\n",
    "interApi.set('number of points', number_of_points)\n",
    "\n",
    "interApi.setposition('ONA', 0, -400)\n"
   ]
  },
  {
   "cell_type": "code",
   "execution_count": null,
   "id": "b09fd305",
   "metadata": {},
   "outputs": [],
   "source": [
    "def filter_1st(pw_coupling, L, delta_L, name_prefix, position_y): \n",
    "    interApi.switchtolayout()\n",
    "\n",
    "\n",
    "    names = {\n",
    "        'coupler_1': f'{name_prefix}_coupler_1',\n",
    "        'coupler_2': f'{name_prefix}_coupler_2',\n",
    "        'wg_1': f'{name_prefix}_wg_1',\n",
    "        'wg_2': f'{name_prefix}_wg_2'\n",
    "    }\n",
    "\n",
    "     # Remove elementos existentes com os mesmos nomes\n",
    "    for element in names.values():\n",
    "        interApi.select(element)\n",
    "        interApi.delete()\n",
    "\n",
    "    # Adiciona elementos com nomes exclusivos\n",
    "    interApi.addelement('Waveguide Coupler')\n",
    "    interApi.set('name', names['coupler_1'])\n",
    "\n",
    "    interApi.addelement('Waveguide Coupler')\n",
    "    interApi.set('name', names['coupler_2'])\n",
    "\n",
    "    interApi.addelement('Straight Waveguide')\n",
    "    interApi.set('name', names['wg_1'])\n",
    "    interApi.set('frequency', (c/(central_wavelength)))\n",
    "    interApi.set('length', L)\n",
    "    interApi.set('effective index 1', neff)\n",
    "    interApi.set('group index 1', ng)\n",
    "\n",
    "    interApi.addelement('Straight Waveguide')\n",
    "    interApi.set('name', names['wg_2'])\n",
    "    interApi.set('frequency', (c/(central_wavelength)))\n",
    "    interApi.set('length', L + delta_L)\n",
    "    interApi.set('effective index 1', neff)\n",
    "    interApi.set('group index 1', ng)\n",
    "\n",
    "    #positions\n",
    "    interApi.setposition(names['coupler_1'], -250, 50 + position_y)\n",
    "    interApi.setposition(names['coupler_2'], 250, 50 + position_y)\n",
    "    interApi.setposition(names['wg_1'], 0,-100 + position_y)\n",
    "    interApi.setposition(names['wg_2'], 0, 100 + position_y)\n",
    "\n",
    "    # connection\n",
    "\n",
    "    interApi.connect(\"ONA\", \"output\", \"coupler_1\", \"port 1\")\n",
    "    interApi.connect(\"coupler_1\", \"port 3\", \"wg_1\", \"port 1\")\n",
    "    interApi.connect(\"coupler_1\", \"port 4\", \"wg_2\", \"port 1\")\n",
    "    interApi.connect(\"wg_1\", \"port 2\", \"coupler_2\", \"port 1\")\n",
    "    interApi.connect(\"wg_2\", \"port 2\", \"coupler_2\", \"port 2\")\n",
    "    interApi.connect(\"coupler_2\", \"port 3\", \"ONA\", \"input 1\")\n",
    "    interApi.connect(\"coupler_2\", \"port 4\", \"ONA\", \"input 2\")\n",
    "\n",
    "    return names  # retorna os nomes dos elementos para controle externo"
   ]
  },
  {
   "cell_type": "code",
   "execution_count": 28,
   "id": "20373fee",
   "metadata": {},
   "outputs": [],
   "source": [
    "filter_1 = filter_1st(0.5, 2*um, 10*um, 'filter1', 0)"
   ]
  },
  {
   "cell_type": "code",
   "execution_count": 19,
   "id": "9ed6da55",
   "metadata": {},
   "outputs": [
    {
     "name": "stdout",
     "output_type": "stream",
     "text": [
      "filter1_coupler_1\n"
     ]
    }
   ],
   "source": [
    "print(filter_1['coupler_1'])"
   ]
  }
 ],
 "metadata": {
  "kernelspec": {
   "display_name": "Python 3",
   "language": "python",
   "name": "python3"
  },
  "language_info": {
   "codemirror_mode": {
    "name": "ipython",
    "version": 3
   },
   "file_extension": ".py",
   "mimetype": "text/x-python",
   "name": "python",
   "nbconvert_exporter": "python",
   "pygments_lexer": "ipython3",
   "version": "3.11.9"
  }
 },
 "nbformat": 4,
 "nbformat_minor": 5
}
