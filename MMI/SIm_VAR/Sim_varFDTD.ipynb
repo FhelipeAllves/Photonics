{
 "cells": [
  {
   "cell_type": "code",
   "execution_count": 35,
   "metadata": {},
   "outputs": [],
   "source": [
    "import sys, os, imp\n",
    "import numpy as np\n",
    "import matplotlib.pyplot as plt\n",
    "from scipy.constants import lambda2nu, nu2lambda, c"
   ]
  },
  {
   "cell_type": "code",
   "execution_count": 36,
   "metadata": {},
   "outputs": [],
   "source": [
    "# lumapiFile = \"/opt/lumerical/v221/api/python/lumapi.py\"\n",
    "lumapiFile = \"C:\\\\Program Files\\\\Lumerical\\\\v221\\\\api\\\\python\\\\lumapi.py\"\n",
    "lumapi = imp.load_source(\"lumapi\", lumapiFile)\n",
    "varApi = lumapi.MODE(hide = False)"
   ]
  },
  {
   "cell_type": "markdown",
   "metadata": {},
   "source": [
    "##  Specification of the materials and dimensions of the guide"
   ]
  },
  {
   "cell_type": "code",
   "execution_count": 37,
   "metadata": {},
   "outputs": [],
   "source": [
    "# units\n",
    "um = 1e-6\n",
    "nm = 1e-9"
   ]
  },
  {
   "cell_type": "code",
   "execution_count": 38,
   "metadata": {},
   "outputs": [],
   "source": [
    "# Materials \n",
    "sub_material = 'SiO2 (Glass) - Palik'\n",
    "core_material = 'Si (Silicon) - Palik'"
   ]
  },
  {
   "cell_type": "code",
   "execution_count": 69,
   "metadata": {},
   "outputs": [],
   "source": [
    "# MMI x parameters\n",
    "L = 57.42 * um\n",
    "W = 7.0 * um\n",
    "\n",
    "# Taper parameters\n",
    "W1 = 450 * nm\n",
    "W2 = 1.5 * um\n",
    "L1 = 15 * um\n",
    "\n",
    "# Waveguide parameters\n",
    "wvg_width = 450 * nm\n",
    "wvg_height = 220 * nm\n",
    "\n",
    "# Waveguide length\n",
    "wvg_length = 4.0 * um\n",
    "\n",
    "# Bandwidth operation\n",
    "cband = True\n",
    "filename = \"S_MMI_varFDTD_2x2_%d_um\" % (L / um)\n",
    "\n",
    "# C Band simulation: 1520 - 1575 nm\n",
    "# L Band simulation: 1555 - 1635 nm\n",
    "\n",
    "\n",
    "if cband:\n",
    "    wvlngth_start = 1.520 * um\n",
    "    wvlngth_stop = 1.575 * um\n",
    "else:\n",
    "    wvlngth_start = 1.555 * um\n",
    "    wvlngth_stop = 1.635 * um\n",
    "\n",
    "nmbrFrqPnts = 20\n"
   ]
  },
  {
   "cell_type": "markdown",
   "metadata": {},
   "source": [
    "## Structure creation"
   ]
  },
  {
   "cell_type": "code",
   "execution_count": 40,
   "metadata": {},
   "outputs": [],
   "source": [
    "# Defining a Structure Group\n",
    "varApi.addstructuregroup()\n",
    "dev_layer = \"GDS_LAYER 35:4\"\n",
    "varApi.set(\"name\", dev_layer)"
   ]
  },
  {
   "cell_type": "code",
   "execution_count": 41,
   "metadata": {},
   "outputs": [],
   "source": [
    "varApi.switchtolayout()\n",
    "varApi.deleteall()\n",
    "\n",
    "# Add box\n",
    "varApi.addrect()\n",
    "varApi.addtogroup(dev_layer)\n",
    "varApi.set(\"name\", \"box\")\n",
    "varApi.set(\"x\", 0)\n",
    "varApi.set(\"x span\", L)\n",
    "varApi.set(\"y\", 0)\n",
    "varApi.set(\"y span\", W)\n",
    "varApi.set(\"z\", 0)\n",
    "varApi.set(\"z span\", wvg_height)\n",
    "varApi.set(\"material\", core_material)\n",
    "\n",
    "# Tapers Configuration\n",
    "for i in range(4):\n",
    "    varApi.addobject(\"linear_taper\")\n",
    "    varApi.set(\"name\", f\"taper port {str(i + 1)}\")\n",
    "    varApi.set(\"thickness\", wvg_height)\n",
    "    varApi.set(\"angle_side\", 90)\n",
    "    varApi.set(\"width_r\", W1)\n",
    "    varApi.set(\"width_l\", W2)\n",
    "    varApi.set(\"len\", L1)\n",
    "    varApi.set(\"material\", core_material)\n",
    "    varApi.set(\"x\", varApi.getnamed(f\"{dev_layer}::box\", \"x max\") + L1/2)\n",
    "    varApi.set(\"y\", 0)\n",
    "    varApi.set(\"z\", 0)\n",
    "\n",
    "# Adjusting taper positions\n",
    "varApi.select(f\"{dev_layer}::taper port 1\")\n",
    "varApi.set(\"width_r\", W2)\n",
    "varApi.set(\"width_l\", W1)\n",
    "varApi.set(\"x\", -varApi.getnamed(f\"{dev_layer}::box\", \"x max\") - L1/2)\n",
    "varApi.set(\"y\", W/6)\n",
    "\n",
    "varApi.select(f\"{dev_layer}::taper port 2\")\n",
    "varApi.set(\"width_r\", W2)\n",
    "varApi.set(\"width_l\", W1)\n",
    "varApi.set(\"x\", -varApi.getnamed(f\"{dev_layer}::box\", \"x max\") - L1/2)\n",
    "varApi.set(\"y\", -W/6)\n",
    "\n",
    "varApi.select(f\"{dev_layer}::taper port 3\")\n",
    "varApi.set(\"y\", W/6)\n",
    "\n",
    "varApi.select(f\"{dev_layer}::taper port 4\")\n",
    "varApi.set(\"y\", -W/6)\n",
    "\n",
    "# add waveguides\n",
    "for i in range(4):\n",
    "    varApi.addrect()\n",
    "    varApi.addtogroup(dev_layer)\n",
    "    varApi.set(\"name\", f\"wvguide {str(i+1)}\")\n",
    "    varApi.set(\"x\", 0)\n",
    "    varApi.set(\"x span\", wvg_length)\n",
    "    varApi.set(\"y\", 0)\n",
    "    varApi.set(\"y span\", wvg_width)\n",
    "    varApi.set(\"z\", 0)\n",
    "    varApi.set(\"z span\", wvg_height)\n",
    "    varApi.set(\"material\", core_material)\n",
    "\n",
    "# Adjusting the wvg positions\n",
    "varApi.select(f\"{dev_layer}::wvguide 1\")\n",
    "varApi.set(\"x\", varApi.getnamed(f\"{dev_layer}::box\", \"x min\") - L1 - wvg_length/2)\n",
    "varApi.set(\"y\", W/6)\n",
    "\n",
    "varApi.select(f\"{dev_layer}::wvguide 2\")\n",
    "varApi.set(\"x\", varApi.getnamed(f\"{dev_layer}::box\", \"x min\") - L1 - wvg_length/2)\n",
    "varApi.set(\"y\", -W/6)\n",
    "\n",
    "varApi.select(f\"{dev_layer}::wvguide 3\")\n",
    "varApi.set(\"x\", varApi.getnamed(f\"{dev_layer}::box\", \"x max\") + L1 + wvg_length/2)\n",
    "varApi.set(\"y\", W/6)\n",
    "\n",
    "varApi.select(f\"{dev_layer}::wvguide 4\")\n",
    "varApi.set(\"x\", varApi.getnamed(f\"{dev_layer}::box\", \"x max\") + L1 + wvg_length/2)\n",
    "varApi.set(\"y\", -W/6)"
   ]
  },
  {
   "cell_type": "markdown",
   "metadata": {},
   "source": [
    "## Add solver"
   ]
  },
  {
   "cell_type": "code",
   "execution_count": null,
   "metadata": {},
   "outputs": [],
   "source": [
    "\n",
    "xspan_solver = L + L1*2 + wvg_length*1.75\n",
    "yspan_solver = W * 1.5\n",
    "zspan_solver = wvg_height*4\n",
    "number_points = 20\n",
    "\n",
    "test_points = np.array([[-L/2, W/2 + 0.5*um],\n",
    "                        [L/2, -(W/2 + 0.5*um)],\n",
    "                        [L/2, W/2 + 0.5*um],\n",
    "                        [-L/2, -(W/2 + 0.5*um)]])"
   ]
  },
  {
   "cell_type": "code",
   "execution_count": 56,
   "metadata": {},
   "outputs": [],
   "source": [
    "varApi.switchtolayout()\n",
    "varApi.select('varFDTD')\n",
    "varApi.delete()\n",
    "\n",
    "varApi.addvarfdtd()\n",
    "varApi.set('x', 0)\n",
    "varApi.set('y', 0)\n",
    "varApi.set('z', 0)\n",
    "varApi.set(\"x span\",xspan_solver)\n",
    "varApi.set(\"y span\",yspan_solver)\n",
    "varApi.set(\"z span\",zspan_solver)\n",
    "varApi.set('x0', -L/2)\n",
    "varApi.set('y0', W/6)\n",
    "varApi.set('background material', sub_material)\n",
    "varApi.set('global monitor frequency points', number_points)\n",
    "varApi.set('test points', test_points)\n",
    "varApi.set('mesh accuracy', 2)\n",
    "\n",
    "varApi.set('z min bc', 'Symmetric' )\n",
    "varApi.set('z max bc', 'PML' )"
   ]
  },
  {
   "cell_type": "markdown",
   "metadata": {},
   "source": [
    "## Add Source\n"
   ]
  },
  {
   "cell_type": "code",
   "execution_count": 59,
   "metadata": {},
   "outputs": [],
   "source": [
    "varApi.switchtolayout()\n",
    "varApi.select('source_input')\n",
    "varApi.delete()\n",
    "\n",
    "varApi.addmodesource()\n",
    "varApi.set('name', 'source_input')\n",
    "varApi.set('injection axis', 'x')\n",
    "varApi.set('x', -(L/2 + L1 + wvg_length - 1*um))\n",
    "varApi.set('y', W/6)\n",
    "varApi.set(\"y span\", wvg_width*4)\n",
    "varApi.set('wavelength start', wvlngth_start)\n",
    "varApi.set('wavelength stop', wvlngth_stop)\n",
    "varApi.set('direction', 'forward')\n"
   ]
  },
  {
   "cell_type": "markdown",
   "metadata": {},
   "source": [
    "## Add monitors"
   ]
  },
  {
   "cell_type": "code",
   "execution_count": 68,
   "metadata": {},
   "outputs": [],
   "source": [
    "varApi.switchtolayout()\n",
    "for i in range(5):\n",
    "    varApi.select('monitor_' + str(i))\n",
    "    varApi.delete()\n",
    "\n",
    "\n",
    "varApi.addprofile()\n",
    "varApi.set('name', 'monitor_0')\n",
    "varApi.set('x', 0)\n",
    "varApi.set('y', 0)\n",
    "varApi.set(\"x span\", xspan_solver)\n",
    "varApi.set(\"y span\", yspan_solver)\n",
    "\n",
    "for j in range(4):\n",
    "\n",
    "    varApi.addpower()\n",
    "    varApi.set('name', 'monitor_' + str(j + 1))\n",
    "    varApi.set('monitor type', 5)\n",
    "    varApi.set('x', -(L/2 + L1 + wvg_length - 1.6*um))\n",
    "    varApi.set('y', (W/6) * (-1)**j)\n",
    "    varApi.set('y span', wvg_width*4)\n",
    "    varApi.set('z span', zspan_solver)\n",
    "\n",
    "varApi.select('monitor_3')\n",
    "varApi.set('x', (L/2 + L1 + wvg_length - 1.6*um))\n",
    "\n",
    "varApi.select('monitor_4')\n",
    "varApi.set('x', (L/2 + L1 + wvg_length - 1.6*um))"
   ]
  },
  {
   "cell_type": "markdown",
   "metadata": {},
   "source": [
    "## Simulation"
   ]
  },
  {
   "cell_type": "code",
   "execution_count": 72,
   "metadata": {},
   "outputs": [],
   "source": [
    "varApi.save(f\"C:/Users/alves/Documents/{filename}\")\n",
    "\n",
    "varApi.run()"
   ]
  }
 ],
 "metadata": {
  "kernelspec": {
   "display_name": "Python 3",
   "language": "python",
   "name": "python3"
  },
  "language_info": {
   "codemirror_mode": {
    "name": "ipython",
    "version": 3
   },
   "file_extension": ".py",
   "mimetype": "text/x-python",
   "name": "python",
   "nbconvert_exporter": "python",
   "pygments_lexer": "ipython3",
   "version": "3.11.9"
  }
 },
 "nbformat": 4,
 "nbformat_minor": 2
}
