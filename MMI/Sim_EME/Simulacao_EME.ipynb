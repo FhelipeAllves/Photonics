{
 "cells": [
  {
   "cell_type": "code",
   "execution_count": null,
   "metadata": {},
   "outputs": [],
   "source": [
    "#-----------------------Laboratorio 09----------------------------\n",
    "# Luiz Felipe Barros Alves"
   ]
  },
  {
   "cell_type": "code",
   "execution_count": 2,
   "metadata": {},
   "outputs": [
    {
     "name": "stderr",
     "output_type": "stream",
     "text": [
      "C:\\Users\\alves\\AppData\\Local\\Temp\\ipykernel_18960\\3778166921.py:1: DeprecationWarning: the imp module is deprecated in favour of importlib and slated for removal in Python 3.12; see the module's documentation for alternative uses\n",
      "  import sys, os, imp\n"
     ]
    }
   ],
   "source": [
    "import sys, os, imp\n",
    "import numpy as np\n",
    "import matplotlib.pyplot as plt\n",
    "from scipy.constants import lambda2nu, nu2lambda, c"
   ]
  },
  {
   "cell_type": "code",
   "execution_count": 3,
   "metadata": {},
   "outputs": [],
   "source": [
    "# lumapiFile = \"/opt/lumerical/v221/api/python/lumapi.py\"\n",
    "lumapiFile = \"C:\\\\Program Files\\\\Lumerical\\\\v221\\\\api\\\\python\\\\lumapi.py\"\n",
    "lumapi = imp.load_source(\"lumapi\", lumapiFile)\n",
    "emeApi = lumapi.MODE(hide = False)"
   ]
  },
  {
   "cell_type": "markdown",
   "metadata": {},
   "source": [
    "## Especificação dos materiais e dimensões do guia"
   ]
  },
  {
   "cell_type": "code",
   "execution_count": null,
   "metadata": {},
   "outputs": [],
   "source": [
    "# units\n",
    "um = 1e-6\n",
    "nm = 1e-9"
   ]
  },
  {
   "cell_type": "code",
   "execution_count": null,
   "metadata": {},
   "outputs": [],
   "source": [
    "# Materiais \n",
    "sub_material = 'SiO2 (Glass) - Palik'\n",
    "core_material = 'Si (Silicon) - Palik'"
   ]
  },
  {
   "cell_type": "code",
   "execution_count": null,
   "metadata": {},
   "outputs": [],
   "source": [
    "# MMI x parameters\n",
    "L = 57.420 * um\n",
    "W = 7.0 * um\n",
    "\n",
    "# Taper parameters\n",
    "W1 = 450 * nm\n",
    "W2 = 1.5 * um\n",
    "L1 = 15 * um\n",
    "\n",
    "# Waveguide parameters\n",
    "wvg_width = 450 * nm\n",
    "wvg_height = 220 * nm\n",
    "\n",
    "# Waveguide length\n",
    "wvg_length = 4.0 * um\n",
    "\n",
    "# Bandwidth operation\n",
    "cband = True\n",
    "filename = \"S_MMI_EME_2x2_%d_um\" % (L / um)\n",
    "\n",
    "# C Band simulation: 1520 - 1575 nm\n",
    "# L Band simulation: 1555 - 1635 nm\n",
    "\n",
    "\n",
    "if cband:\n",
    "    wvlngth_start = 1.520 * um\n",
    "    wvlngth_stop = 1.575 * um\n",
    "else:\n",
    "    wvlngth_start = 1.555 * um\n",
    "    wvlngth_stop = 1.635 * um\n",
    "\n",
    "nmbrFrqPnts = 20\n"
   ]
  },
  {
   "cell_type": "markdown",
   "metadata": {},
   "source": [
    "## Criação da estrutura"
   ]
  },
  {
   "cell_type": "code",
   "execution_count": null,
   "metadata": {},
   "outputs": [],
   "source": [
    "# Definindo um grupo de estrutura\n",
    "emeApi.addstructuregroup()\n",
    "dev_layer = \"GDS_LAYER 35:4\"\n",
    "emeApi.set(\"name\", dev_layer)"
   ]
  },
  {
   "cell_type": "code",
   "execution_count": null,
   "metadata": {},
   "outputs": [],
   "source": [
    "# Adicionando um retângulo\n",
    "emeApi.addrect()\n",
    "emeApi.addtogroup(dev_layer)\n",
    "emeApi.set(\"name\", \"box\")\n",
    "emeApi.set(\"x\", 0)\n",
    "emeApi.set(\"x span\", L)\n",
    "emeApi.set(\"y\", 0)\n",
    "emeApi.set(\"y span\", W)\n",
    "emeApi.set(\"z\", wvg_height / 2)\n",
    "emeApi.set(\"z span\", wvg_height)\n",
    "emeApi.set(\"material\", material_Si)\n",
    "\n",
    "# Configuração dos tapers\n",
    "for i in range(3):\n",
    "    emeApi.addobject(\"linear_taper\")\n",
    "    emeApi.set(\"name\", f\"taper port {str(i + 1)}\")\n",
    "    emeApi.set(\"thickness\", wvg_height)\n",
    "    emeApi.set(\"angle_side\", 90)\n",
    "    emeApi.set(\"width1\", W1)\n",
    "    emeApi.set(\"width2\", W2)\n",
    "    emeApi.set(\"len\", L1)\n",
    "    emeApi.set(\"material\", material_Si)\n",
    "    emeApi.set(\"x\", emeApi.getnamed(f\"{dev_layer}::box\", \"x max\") + L1/2)\n",
    "    emeApi.set(\"y\", 0)\n",
    "    emeApi.set(\"z\", wvg_height / 2)\n",
    "\n",
    "# Ajustando as posições dos tapers\n",
    "# Primeiro taper\n",
    "emeApi.select(f\"{dev_layer}::taper port 1\")\n",
    "emeApi.set(\"width1\", W1)\n",
    "emeApi.set(\"width2\", W2)\n",
    "emeApi.set(\"x\", -emeApi.getnamed(f\"{dev_layer}::box\", \"x max\") + L1/2)\n",
    "emeApi.set(\"y\", 0)\n",
    "\n",
    "# Terceiro taper\n",
    "emeApi.select(f\"{dev_layer}::taper port 3\")\n",
    "emeApi.set(\"y\", -W/4)\n"
   ]
  }
 ],
 "metadata": {
  "kernelspec": {
   "display_name": "Python 3",
   "language": "python",
   "name": "python3"
  },
  "language_info": {
   "codemirror_mode": {
    "name": "ipython",
    "version": 3
   },
   "file_extension": ".py",
   "mimetype": "text/x-python",
   "name": "python",
   "nbconvert_exporter": "python",
   "pygments_lexer": "ipython3",
   "version": "3.11.9"
  }
 },
 "nbformat": 4,
 "nbformat_minor": 2
}
