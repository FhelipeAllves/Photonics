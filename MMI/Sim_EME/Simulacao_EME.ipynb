{
 "cells": [
  {
   "cell_type": "code",
   "execution_count": 168,
   "metadata": {},
   "outputs": [],
   "source": [
    "#-----------------------Laboratorio 09----------------------------\n",
    "# Luiz Felipe Barros Alves"
   ]
  },
  {
   "cell_type": "code",
   "execution_count": 169,
   "metadata": {},
   "outputs": [],
   "source": [
    "import sys, os, imp\n",
    "import numpy as np\n",
    "import matplotlib.pyplot as plt\n",
    "from scipy.constants import lambda2nu, nu2lambda, c"
   ]
  },
  {
   "cell_type": "code",
   "execution_count": 170,
   "metadata": {},
   "outputs": [
    {
     "name": "stderr",
     "output_type": "stream",
     "text": [
      "Exception ignored in: <function Lumerical.__del__ at 0x0000017C494782C0>\n",
      "Traceback (most recent call last):\n",
      "  File \"C:\\Program Files\\Lumerical\\v221\\api\\python\\lumapi.py\", line 1196, in __del__\n",
      "    close(self.handle)\n",
      "  File \"C:\\Program Files\\Lumerical\\v221\\api\\python\\lumapi.py\", line 245, in close\n",
      "    iapi.appClose(handle)\n",
      "ctypes.ArgumentError: argument 1: TypeError: expected Session instance instead of Session\n"
     ]
    }
   ],
   "source": [
    "# lumapiFile = \"/opt/lumerical/v221/api/python/lumapi.py\"\n",
    "lumapiFile = \"C:\\\\Program Files\\\\Lumerical\\\\v221\\\\api\\\\python\\\\lumapi.py\"\n",
    "lumapi = imp.load_source(\"lumapi\", lumapiFile)\n",
    "emeApi = lumapi.MODE(hide = False)"
   ]
  },
  {
   "cell_type": "markdown",
   "metadata": {},
   "source": [
    "## Especificação dos materiais e dimensões do guia"
   ]
  },
  {
   "cell_type": "code",
   "execution_count": 171,
   "metadata": {},
   "outputs": [],
   "source": [
    "# units\n",
    "um = 1e-6\n",
    "nm = 1e-9"
   ]
  },
  {
   "cell_type": "code",
   "execution_count": 172,
   "metadata": {},
   "outputs": [],
   "source": [
    "# Materiais \n",
    "sub_material = 'SiO2 (Glass) - Palik'\n",
    "core_material = 'Si (Silicon) - Palik'"
   ]
  },
  {
   "cell_type": "code",
   "execution_count": 173,
   "metadata": {},
   "outputs": [],
   "source": [
    "# MMI x parameters\n",
    "L = 172.260 * um\n",
    "W = 7.0 * um\n",
    "\n",
    "# Taper parameters\n",
    "W1 = 450 * nm\n",
    "W2 = 1.5 * um\n",
    "L1 = 15 * um\n",
    "\n",
    "# Waveguide parameters\n",
    "wvg_width = 450 * nm\n",
    "wvg_height = 220 * nm\n",
    "\n",
    "# Waveguide length\n",
    "wvg_length = 4.0 * um\n",
    "\n",
    "# Bandwidth operation\n",
    "cband = True\n",
    "filename = \"S_MMI_EME_2x2_%d_um\" % (L / um)\n",
    "\n",
    "# C Band simulation: 1520 - 1575 nm\n",
    "# L Band simulation: 1555 - 1635 nm\n",
    "\n",
    "\n",
    "if cband:\n",
    "    wvlngth_start = 1.520 * um\n",
    "    wvlngth_stop = 1.575 * um\n",
    "else:\n",
    "    wvlngth_start = 1.555 * um\n",
    "    wvlngth_stop = 1.635 * um\n",
    "\n",
    "nmbrFrqPnts = 20\n"
   ]
  },
  {
   "cell_type": "markdown",
   "metadata": {},
   "source": [
    "## Criação da estrutura"
   ]
  },
  {
   "cell_type": "code",
   "execution_count": 174,
   "metadata": {},
   "outputs": [],
   "source": [
    "# Definindo um grupo de estrutura\n",
    "emeApi.addstructuregroup()\n",
    "dev_layer = \"GDS_LAYER 35:4\"\n",
    "emeApi.set(\"name\", dev_layer)"
   ]
  },
  {
   "cell_type": "code",
   "execution_count": 175,
   "metadata": {},
   "outputs": [],
   "source": [
    "emeApi.switchtolayout()\n",
    "emeApi.deleteall()\n",
    "\n",
    "# Adicionando um retângulo\n",
    "emeApi.addrect()\n",
    "emeApi.addtogroup(dev_layer)\n",
    "emeApi.set(\"name\", \"box\")\n",
    "emeApi.set(\"x\", 0)\n",
    "emeApi.set(\"x span\", L)\n",
    "emeApi.set(\"y\", 0)\n",
    "emeApi.set(\"y span\", W)\n",
    "emeApi.set(\"z\", wvg_height / 2)\n",
    "emeApi.set(\"z span\", wvg_height)\n",
    "emeApi.set(\"material\", core_material)\n",
    "\n",
    "# Configuração dos tapers\n",
    "for i in range(4):\n",
    "    emeApi.addobject(\"linear_taper\")\n",
    "    emeApi.set(\"name\", f\"taper port {str(i + 1)}\")\n",
    "    emeApi.set(\"thickness\", wvg_height)\n",
    "    emeApi.set(\"angle_side\", 90)\n",
    "    emeApi.set(\"width_r\", W1)\n",
    "    emeApi.set(\"width_l\", W2)\n",
    "    emeApi.set(\"len\", L1)\n",
    "    emeApi.set(\"material\", core_material)\n",
    "    emeApi.set(\"x\", emeApi.getnamed(f\"{dev_layer}::box\", \"x max\") + L1/2)\n",
    "    emeApi.set(\"y\", 0)\n",
    "    emeApi.set(\"z\", wvg_height / 2)\n",
    "\n",
    "# Ajustando as posições dos tapers\n",
    "emeApi.select(f\"{dev_layer}::taper port 1\")\n",
    "emeApi.set(\"width_r\", W2)\n",
    "emeApi.set(\"width_l\", W1)\n",
    "emeApi.set(\"x\", -emeApi.getnamed(f\"{dev_layer}::box\", \"x max\") - L1/2)\n",
    "emeApi.set(\"y\", W/4)\n",
    "\n",
    "emeApi.select(f\"{dev_layer}::taper port 2\")\n",
    "emeApi.set(\"width_r\", W2)\n",
    "emeApi.set(\"width_l\", W1)\n",
    "emeApi.set(\"x\", -emeApi.getnamed(f\"{dev_layer}::box\", \"x max\") - L1/2)\n",
    "emeApi.set(\"y\", -W/4)\n",
    "\n",
    "emeApi.select(f\"{dev_layer}::taper port 3\")\n",
    "emeApi.set(\"y\", W/4)\n",
    "\n",
    "emeApi.select(f\"{dev_layer}::taper port 4\")\n",
    "emeApi.set(\"y\", -W/4)\n",
    "\n",
    "# Adicionando waveguides\n",
    "for i in range(4):\n",
    "    emeApi.addrect()\n",
    "    emeApi.addtogroup(dev_layer)\n",
    "    emeApi.set(\"name\", f\"wvguide {str(i+1)}\")\n",
    "    emeApi.set(\"x\", 0)\n",
    "    emeApi.set(\"x span\", wvg_length)\n",
    "    emeApi.set(\"y\", 0)\n",
    "    emeApi.set(\"y span\", wvg_width)\n",
    "    emeApi.set(\"z\", wvg_height / 2)\n",
    "    emeApi.set(\"z span\", wvg_height)\n",
    "    emeApi.set(\"material\", core_material)\n",
    "\n",
    "# Ajustando as posições dos wvg\n",
    "emeApi.select(f\"{dev_layer}::wvguide 1\")\n",
    "emeApi.set(\"x\", emeApi.getnamed(f\"{dev_layer}::box\", \"x min\") - L1 - wvg_length/2)\n",
    "emeApi.set(\"y\", W/4)\n",
    "\n",
    "emeApi.select(f\"{dev_layer}::wvguide 2\")\n",
    "emeApi.set(\"x\", emeApi.getnamed(f\"{dev_layer}::box\", \"x min\") - L1 - wvg_length/2)\n",
    "emeApi.set(\"y\", -W/4)\n",
    "\n",
    "emeApi.select(f\"{dev_layer}::wvguide 3\")\n",
    "emeApi.set(\"x\", emeApi.getnamed(f\"{dev_layer}::box\", \"x max\") + L1 + wvg_length/2)\n",
    "emeApi.set(\"y\", W/4)\n",
    "\n",
    "emeApi.select(f\"{dev_layer}::wvguide 4\")\n",
    "emeApi.set(\"x\", emeApi.getnamed(f\"{dev_layer}::box\", \"x max\") + L1 + wvg_length/2)\n",
    "emeApi.set(\"y\", -W/4)"
   ]
  },
  {
   "cell_type": "markdown",
   "metadata": {},
   "source": [
    "## Adicionando solver"
   ]
  },
  {
   "cell_type": "code",
   "execution_count": 176,
   "metadata": {},
   "outputs": [],
   "source": [
    "# Add solver\n",
    "\n",
    "emeApi.switchtolayout()\n",
    "emeApi.select('EME')\n",
    "emeApi.delete()\n",
    "\n",
    "bound_x_offset = 0.5 * um\n",
    "bound_y_offset = 10 * um\n",
    "bound_z_offset = 4 * um\n",
    "\n",
    "emeApi.addeme()\n",
    "\n",
    "## Dimensions\n",
    "emeApi.set(\"x\", 0)\n",
    "emeApi.set(\"x min\", emeApi.getnamed(f\"{dev_layer}::wvguide 1\", \"x min\"))\n",
    "\n",
    "emeApi.set(\"y\", 0)\n",
    "emeApi.set(\"y span\", W + bound_y_offset)\n",
    "\n",
    "emeApi.set(\"z\", wvg_height / 2)\n",
    "emeApi.set(\"z span\",  bound_z_offset)\n",
    "\n",
    "## Background material\n",
    "emeApi.set(\"background material\", sub_material)\n",
    "\n",
    "\n",
    "# Paramêtros importantes\n",
    "cell_wgd = 1\n",
    "cell_taper = 16\n",
    "cell_box = 1\n",
    "\n",
    "span_wgd = wvg_length \n",
    "span_taper = L1\n",
    "span_box = L\n",
    "\n",
    "method_wgd = 0  # 0 = none, 1 = CVCS\n",
    "method_taper = 1\n",
    "method_box = 0\n",
    "\n",
    "modes_wgd = 4\n",
    "modes_taper = 10\n",
    "modes_box = 32\n",
    "\n",
    "# Set cell properties\n",
    "emeApi.set(\"number of cell groups\", 5)\n",
    "emeApi.set(\"group spans\", np.block([[span_wgd], [span_taper], [span_box], [span_taper], [span_wgd]]))\n",
    "emeApi.set(\"cells\", np.block([[cell_wgd], [cell_taper], [cell_box], [cell_taper], [cell_wgd]]))\n",
    "emeApi.set(\"subcell method\", np.block([[method_wgd], [method_taper], [method_box], [method_taper], [method_wgd]]))\n",
    "emeApi.set(\"allow custom eigensolver settings\", True)\n",
    "emeApi.set(\"modes\", np.block([[modes_wgd], [modes_taper], [modes_box], [modes_taper], [modes_wgd]]))\n",
    "emeApi.set(\"display cells\", 1)\n",
    "\n",
    "# Number of mesh cells without override regions\n",
    "# emeApi.set(\"mesh cells x\", 200)\n",
    "emeApi.set(\"mesh cells y\", 200)\n",
    "emeApi.set(\"mesh cells z\", 200)\n",
    "\n",
    "# Boundary Conditions\n",
    "emeApi.set(\"y min bc\", \"PML\")\n",
    "emeApi.set(\"y max bc\", \"PML\")\n",
    "emeApi.set(\"z min bc\", \"Symmetric\")\n",
    "emeApi.set(\"z max bc\", \"PML\")\n",
    "\n",
    "\n",
    "## Configura as portas\n",
    "# port_y_span = 2 * um\n",
    "# port_z_span = 2 * um\n",
    "\n",
    "emeApi.select(\"EME::Ports::port_1\")\n",
    "emeApi.set(\"use full simulation span\", 0)\n",
    "emeApi.set(\"port location\", \"left\")\n",
    "emeApi.set(\"y\", W/4)\n",
    "emeApi.set(\"y span\", wvg_width)\n",
    "emeApi.set(\"z\",wvg_height / 2)\n",
    "emeApi.set(\"z span\", wvg_height)\n",
    "emeApi.set(\"mode selection\",\"fundamental TE mode\")\n",
    "\n",
    "emeApi.select(\"EME::Ports::port_2\")\n",
    "emeApi.set(\"use full simulation span\",0)\n",
    "emeApi.set(\"port location\", \"left\")\n",
    "emeApi.set(\"y\", -W/4)\n",
    "emeApi.set(\"y span\",  wvg_width)\n",
    "emeApi.set(\"z\", wvg_height / 2)\n",
    "emeApi.set(\"z span\", wvg_height)\n",
    "emeApi.set(\"mode selection\",\"fundamental TE mode\")\n",
    "\n",
    "emeApi.addemeport()\n",
    "emeApi.set(\"use full simulation span\", 0)\n",
    "emeApi.set(\"port location\",\"right\")\n",
    "emeApi.set(\"y\", W/4)\n",
    "emeApi.set(\"y span\", wvg_width)\n",
    "emeApi.set(\"z\", wvg_height / 2)\n",
    "emeApi.set(\"z span\", wvg_height)\n",
    "emeApi.set(\"mode selection\",\"fundamental TE mode\")\n",
    "\n",
    "emeApi.addemeport()\n",
    "emeApi.set(\"use full simulation span\", 0)\n",
    "emeApi.set(\"port location\",\"right\")\n",
    "emeApi.set(\"y\", -W/4)\n",
    "emeApi.set(\"y span\", wvg_width)\n",
    "emeApi.set(\"z\", wvg_height / 2)\n",
    "emeApi.set(\"z span\", wvg_height)\n",
    "emeApi.set(\"mode selection\",\"fundamental TE mode\")"
   ]
  },
  {
   "cell_type": "code",
   "execution_count": 177,
   "metadata": {},
   "outputs": [],
   "source": [
    "# add monitor\n",
    "\n",
    "emeApi.switchtolayout()\n",
    "emeApi.select('profile')\n",
    "emeApi.delete()\n",
    "emeApi.select('mesh')\n",
    "emeApi.delete()\n",
    "\n",
    "emeApi.addemeprofile()\n",
    "emeApi.set(\"name\", \"profile\")\n",
    "emeApi.set(\"monitor type\", 3) #2D Z normal\n",
    "emeApi.set(\"x\", 0)\n",
    "emeApi.set(\"x span\", emeApi.getnamed(\"EME\", \"x span\"))\n",
    "emeApi.set(\"y\", 0)\n",
    "emeApi.set(\"y span\",  W + bound_y_offset)\n",
    "emeApi.set(\"z\", wvg_height / 2)\n",
    "\n",
    "# emeApi.addmesh()\n",
    "# emeApi.set(\"x\", 0)\n",
    "# emeApi.set(\"x span\", emeApi.getnamed(\"EME\", \"x span\") - 2*wvg_length)\n",
    "# emeApi.set(\"y\", 0)\n",
    "# emeApi.set(\"y span\",  W*2)\n",
    "# emeApi.set(\"z\", wvg_height / 2)\n",
    "# emeApi.set(\"z span\", wvg_height*5)\n",
    "\n",
    "# emeApi.set(\"set mesh multiplier\", True)\n",
    "# emeApi.set(\"x mesh multiplier\", 5)\n",
    "# emeApi.set(\"y mesh multiplier\", 5)\n",
    "# emeApi.set(\"z mesh multiplier\", 5)\n"
   ]
  },
  {
   "cell_type": "markdown",
   "metadata": {},
   "source": [
    "## Simulação"
   ]
  },
  {
   "cell_type": "code",
   "execution_count": 178,
   "metadata": {},
   "outputs": [],
   "source": [
    "emeApi.save(filename)\n",
    "emeApi.run()"
   ]
  },
  {
   "cell_type": "code",
   "execution_count": 179,
   "metadata": {},
   "outputs": [],
   "source": [
    "emeApi.emepropagate()"
   ]
  },
  {
   "cell_type": "markdown",
   "metadata": {},
   "source": [
    "## Campo Elétrico"
   ]
  },
  {
   "cell_type": "code",
   "execution_count": 180,
   "metadata": {},
   "outputs": [],
   "source": [
    "E = emeApi.getresult(\"profile\", \"field profile\")\n",
    "\n",
    "x = E['x']\n",
    "x = x[:,0]/um\n",
    "y = E['y']\n",
    "y = y[:,0]/um\n",
    "z = E['z']\n",
    "\n",
    "E = E['E']\n",
    "\n",
    "Ex = E[:, :, 0, :, 0]\n",
    "Ey = E[:, :, 0, :, 1]\n",
    "Ez = E[:, :, 0, :, 2]\n",
    "\n",
    "Emag = np.sqrt(np.abs(Ex)**2 + np.abs(Ey)**2 + np.abs(Ez)**2)"
   ]
  },
  {
   "cell_type": "code",
   "execution_count": 181,
   "metadata": {},
   "outputs": [
    {
     "data": {
      "text/plain": [
       "Text(28, 3, 'Porta 2')"
      ]
     },
     "execution_count": 181,
     "metadata": {},
     "output_type": "execute_result"
    },
    {
     "data": {
      "image/png": "[encoded data removed]",
      "text/plain": [
       "<Figure size 640x480 with 2 Axes>"
      ]
     },
     "metadata": {},
     "output_type": "display_data"
    }
   ],
   "source": [
    "plt.figure()\n",
    "mycmap = plt.get_cmap('jet')\n",
    "\n",
    "v = np.linspace(0, 1, 11, endpoint=True)\n",
    "plt.contourf(x, y, np.transpose(Emag[:,:,0]), v, cmap=mycmap)\n",
    "plt.colorbar(ticks=v)\n",
    "\n",
    "plt.title('Distribuição do campo E', fontsize=12)\n",
    "plt.ylabel('y [um]', fontsize=10)\n",
    "plt.xlabel('x [um]', fontsize=10)\n",
    "\n",
    "plt.text(-38, 1, 'Porta 1', fontsize=12, fontweight='bold', color='w')\n",
    "plt.text(28, -3, 'Porta 3', fontsize=12, fontweight='bold', color='w')\n",
    "plt.text(28, 3, 'Porta 2', fontsize=12, fontweight='bold', color='w')\n"
   ]
  },
  {
   "cell_type": "code",
   "execution_count": 182,
   "metadata": {},
   "outputs": [
    {
     "data": {
      "text/plain": [
       "Text(28, 3, 'Porta 2')"
      ]
     },
     "execution_count": 182,
     "metadata": {},
     "output_type": "execute_result"
    },
    {
     "data": {
      "image/png": "[encoded data removed]",
      "text/plain": [
       "<Figure size 640x480 with 2 Axes>"
      ]
     },
     "metadata": {},
     "output_type": "display_data"
    }
   ],
   "source": [
    "plt.figure()\n",
    "v = np.linspace(-30, 0, 11, endpoint=True)\n",
    "\n",
    "plt.title(\"Distribuição do campo $|E|^2$ (dB)\", fontsize=12)\n",
    "plt.ylabel(\"y [um]\", fontsize=10)\n",
    "plt.xlabel(\"x [um]\", fontsize=10)\n",
    "\n",
    "CS = plt.contourf(x, y, 10*np.log10(np.transpose(Emag[:,:,0])), v, cmap=mycmap, extend='min')\n",
    "plt.colorbar(ticks=v)\n",
    "\n",
    "plt.text(-38, 1, 'Porta 1', fontsize=12, fontweight='bold', color='w')\n",
    "plt.text(28, -3, 'Porta 3', fontsize=12, fontweight='bold', color='w')\n",
    "plt.text(28, 3, 'Porta 2', fontsize=12, fontweight='bold', color='w')\n"
   ]
  }
 ],
 "metadata": {
  "kernelspec": {
   "display_name": "Python 3",
   "language": "python",
   "name": "python3"
  },
  "language_info": {
   "codemirror_mode": {
    "name": "ipython",
    "version": 3
   },
   "file_extension": ".py",
   "mimetype": "text/x-python",
   "name": "python",
   "nbconvert_exporter": "python",
   "pygments_lexer": "ipython3",
   "version": "3.11.9"
  }
 },
 "nbformat": 4,
 "nbformat_minor": 2
}
