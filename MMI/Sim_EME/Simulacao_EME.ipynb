{
 "cells": [
  {
   "cell_type": "code",
   "execution_count": 14,
   "metadata": {},
   "outputs": [],
   "source": [
    "#-----------------------Laboratorio 09----------------------------\n",
    "# Luiz Felipe Barros Alves"
   ]
  },
  {
   "cell_type": "code",
   "execution_count": 15,
   "metadata": {},
   "outputs": [],
   "source": [
    "import sys, os, imp\n",
    "import numpy as np\n",
    "import matplotlib.pyplot as plt\n",
    "from scipy.constants import lambda2nu, nu2lambda, c"
   ]
  },
  {
   "cell_type": "code",
   "execution_count": 16,
   "metadata": {},
   "outputs": [],
   "source": [
    "# lumapiFile = \"/opt/lumerical/v221/api/python/lumapi.py\"\n",
    "lumapiFile = \"C:\\\\Program Files\\\\Lumerical\\\\v221\\\\api\\\\python\\\\lumapi.py\"\n",
    "lumapi = imp.load_source(\"lumapi\", lumapiFile)\n",
    "emeApi = lumapi.MODE(hide = False)"
   ]
  },
  {
   "cell_type": "markdown",
   "metadata": {},
   "source": [
    "## Especificação dos materiais e dimensões do guia"
   ]
  },
  {
   "cell_type": "code",
   "execution_count": 17,
   "metadata": {},
   "outputs": [],
   "source": [
    "# units\n",
    "um = 1e-6\n",
    "nm = 1e-9"
   ]
  },
  {
   "cell_type": "code",
   "execution_count": 18,
   "metadata": {},
   "outputs": [],
   "source": [
    "# Materiais \n",
    "sub_material = 'SiO2 (Glass) - Palik'\n",
    "core_material = 'Si (Silicon) - Palik'"
   ]
  },
  {
   "cell_type": "code",
   "execution_count": 19,
   "metadata": {},
   "outputs": [],
   "source": [
    "# MMI x parameters\n",
    "L = 57.420 * um\n",
    "W = 7.0 * um\n",
    "\n",
    "# Taper parameters\n",
    "W1 = 450 * nm\n",
    "W2 = 1.5 * um\n",
    "L1 = 15 * um\n",
    "\n",
    "# Waveguide parameters\n",
    "wvg_width = 450 * nm\n",
    "wvg_height = 220 * nm\n",
    "\n",
    "# Waveguide length\n",
    "wvg_length = 4.0 * um\n",
    "\n",
    "# Bandwidth operation\n",
    "cband = True\n",
    "filename = \"S_MMI_EME_2x2_%d_um\" % (L / um)\n",
    "\n",
    "# C Band simulation: 1520 - 1575 nm\n",
    "# L Band simulation: 1555 - 1635 nm\n",
    "\n",
    "\n",
    "if cband:\n",
    "    wvlngth_start = 1.520 * um\n",
    "    wvlngth_stop = 1.575 * um\n",
    "else:\n",
    "    wvlngth_start = 1.555 * um\n",
    "    wvlngth_stop = 1.635 * um\n",
    "\n",
    "nmbrFrqPnts = 20\n"
   ]
  },
  {
   "cell_type": "markdown",
   "metadata": {},
   "source": [
    "## Criação da estrutura"
   ]
  },
  {
   "cell_type": "code",
   "execution_count": 20,
   "metadata": {},
   "outputs": [],
   "source": [
    "# Definindo um grupo de estrutura\n",
    "emeApi.addstructuregroup()\n",
    "dev_layer = \"GDS_LAYER 35:4\"\n",
    "emeApi.set(\"name\", dev_layer)"
   ]
  },
  {
   "cell_type": "code",
   "execution_count": 28,
   "metadata": {},
   "outputs": [],
   "source": [
    "emeApi.switchtolayout()\n",
    "emeApi.deleteall()\n",
    "\n",
    "# Adicionando um retângulo\n",
    "emeApi.addrect()\n",
    "emeApi.addtogroup(dev_layer)\n",
    "emeApi.set(\"name\", \"box\")\n",
    "emeApi.set(\"x\", 0)\n",
    "emeApi.set(\"x span\", L)\n",
    "emeApi.set(\"y\", 0)\n",
    "emeApi.set(\"y span\", W)\n",
    "emeApi.set(\"z\", wvg_height / 2)\n",
    "emeApi.set(\"z span\", wvg_height)\n",
    "emeApi.set(\"material\", core_material)\n",
    "\n",
    "# Configuração dos tapers\n",
    "for i in range(4):\n",
    "    emeApi.addobject(\"linear_taper\")\n",
    "    emeApi.set(\"name\", f\"taper port {str(i + 1)}\")\n",
    "    emeApi.set(\"thickness\", wvg_height)\n",
    "    emeApi.set(\"angle_side\", 90)\n",
    "    emeApi.set(\"width_r\", W1)\n",
    "    emeApi.set(\"width_l\", W2)\n",
    "    emeApi.set(\"len\", L1)\n",
    "    emeApi.set(\"material\", core_material)\n",
    "    emeApi.set(\"x\", emeApi.getnamed(f\"{dev_layer}::box\", \"x max\") + L1/2)\n",
    "    emeApi.set(\"y\", 0)\n",
    "    emeApi.set(\"z\", wvg_height / 2)\n",
    "\n",
    "# Ajustando as posições dos tapers\n",
    "emeApi.select(f\"{dev_layer}::taper port 1\")\n",
    "emeApi.set(\"width_r\", W2)\n",
    "emeApi.set(\"width_l\", W1)\n",
    "emeApi.set(\"x\", -emeApi.getnamed(f\"{dev_layer}::box\", \"x max\") - L1/2)\n",
    "emeApi.set(\"y\", W/4)\n",
    "\n",
    "emeApi.select(f\"{dev_layer}::taper port 2\")\n",
    "emeApi.set(\"width_r\", W2)\n",
    "emeApi.set(\"width_l\", W1)\n",
    "emeApi.set(\"x\", -emeApi.getnamed(f\"{dev_layer}::box\", \"x max\") - L1/2)\n",
    "emeApi.set(\"y\", -W/4)\n",
    "\n",
    "emeApi.select(f\"{dev_layer}::taper port 3\")\n",
    "emeApi.set(\"y\", W/4)\n",
    "\n",
    "emeApi.select(f\"{dev_layer}::taper port 4\")\n",
    "emeApi.set(\"y\", -W/4)"
   ]
  },
  {
   "cell_type": "code",
   "execution_count": null,
   "metadata": {},
   "outputs": [
    {
     "name": "stdout",
     "output_type": "stream",
     "text": [
      "GDS_LAYER 35:4\n"
     ]
    }
   ],
   "source": []
  }
 ],
 "metadata": {
  "kernelspec": {
   "display_name": "Python 3",
   "language": "python",
   "name": "python3"
  },
  "language_info": {
   "codemirror_mode": {
    "name": "ipython",
    "version": 3
   },
   "file_extension": ".py",
   "mimetype": "text/x-python",
   "name": "python",
   "nbconvert_exporter": "python",
   "pygments_lexer": "ipython3",
   "version": "3.11.9"
  }
 },
 "nbformat": 4,
 "nbformat_minor": 2
}
