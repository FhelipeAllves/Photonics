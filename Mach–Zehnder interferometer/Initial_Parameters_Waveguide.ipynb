{
 "cells": [
  {
   "cell_type": "code",
   "execution_count": 1,
   "metadata": {},
   "outputs": [
    {
     "name": "stderr",
     "output_type": "stream",
     "text": [
      "C:\\Users\\alves\\AppData\\Local\\Temp\\ipykernel_6780\\3692977961.py:1: DeprecationWarning: the imp module is deprecated in favour of importlib and slated for removal in Python 3.12; see the module's documentation for alternative uses\n",
      "  import sys, os, imp\n"
     ]
    }
   ],
   "source": [
    "import sys, os, imp\n",
    "import numpy as np\n",
    "import matplotlib.pyplot as plt\n",
    "from IPython.display import display, Math"
   ]
  },
  {
   "cell_type": "code",
   "execution_count": 2,
   "metadata": {},
   "outputs": [],
   "source": [
    "# lumapiFile = \"/opt/lumerical/v221/api/python/lumapi.py\"\n",
    "lumapiFile = \"C:\\\\Program Files\\\\Lumerical\\\\v221\\\\api\\\\python\\\\lumapi.py\"\n",
    "lumapi = imp.load_source(\"lumapi\", lumapiFile)\n",
    "emeApi = lumapi.MODE(hide = False)"
   ]
  },
  {
   "cell_type": "markdown",
   "metadata": {},
   "source": [
    "# Parameters\n"
   ]
  },
  {
   "cell_type": "code",
   "execution_count": 3,
   "metadata": {},
   "outputs": [],
   "source": [
    "# units\n",
    "um = 1e-6\n",
    "nm = 1e-9\n",
    "\n",
    "# Materials \n",
    "sub_material = 'SiO2 (Glass) - Palik'\n",
    "core_material = 'Si (Silicon) - Palik'\n",
    "\n",
    "\n",
    "# Waveguide parameters\n",
    "wvg_width = 450 * nm\n",
    "wvg_height = 220 * nm\n",
    "L = 50*um\n",
    "\n",
    "# Bandwidth operation\n",
    "cband = True\n",
    "# C Band simulation: 1520 - 1575 nm\n",
    "# L Band simulation: 1555 - 1635 nm\n",
    "if cband:\n",
    "    wvlngth_start = 1.520 * um\n",
    "    wvlngth_stop = 1.575 * um\n",
    "else:\n",
    "    wvlngth_start = 1.555 * um\n",
    "    wvlngth_stop = 1.635 * um\n",
    "\n",
    "nmbrFrqPnts = 20\n",
    "filename = \"wgd_1\" "
   ]
  },
  {
   "cell_type": "markdown",
   "metadata": {},
   "source": [
    "# Structure creation"
   ]
  },
  {
   "cell_type": "code",
   "execution_count": null,
   "metadata": {},
   "outputs": [],
   "source": [
    "# Defining a Structure Group\n",
    "emeApi.addstructuregroup()\n",
    "dev_layer = \"GDS_LAYER 35:4\"\n",
    "emeApi.set(\"name\", dev_layer)"
   ]
  },
  {
   "cell_type": "code",
   "execution_count": 5,
   "metadata": {},
   "outputs": [],
   "source": [
    "emeApi.switchtolayout()\n",
    "emeApi.deleteall()\n",
    "\n",
    "emeApi.addrect()\n",
    "emeApi.addtogroup(dev_layer)\n",
    "emeApi.set(\"name\", filename)\n",
    "emeApi.set(\"x\", 0)\n",
    "emeApi.set(\"x span\", L)\n",
    "emeApi.set(\"y\", 0)\n",
    "emeApi.set(\"y span\", wvg_width)\n",
    "emeApi.set(\"z\", 0)\n",
    "emeApi.set(\"z span\", wvg_height)\n",
    "emeApi.set(\"material\", core_material)"
   ]
  },
  {
   "cell_type": "markdown",
   "metadata": {},
   "source": [
    "# Create solver"
   ]
  },
  {
   "cell_type": "code",
   "execution_count": 6,
   "metadata": {},
   "outputs": [],
   "source": [
    "fde_solve_material = sub_material\n",
    "\n",
    "# Define dimensions and other characteristics\n",
    "x_fde = 0*nm\n",
    "z_span_fde = wvg_height*5\n",
    "y_fde = 0*um\n",
    "y_span_fde = wvg_width*5\n",
    "z_fde = 0.0 * um\n",
    "\n",
    "mesh_cells = 100\n",
    "mesh_multiplier = 8\n",
    "number_modes = 4\n",
    "\n",
    "wavelength = 1550.0*nm"
   ]
  },
  {
   "cell_type": "code",
   "execution_count": 7,
   "metadata": {},
   "outputs": [],
   "source": [
    "# Add solver\n",
    "emeApi.switchtolayout()\n",
    "emeApi.select('FDE')\n",
    "emeApi.delete()\n",
    "emeApi.select('mesh')\n",
    "emeApi.delete()\n",
    "\n",
    "emeApi.addfde()\n",
    "emeApi.set(\"solver type\", \"2D X normal\")\n",
    "emeApi.set(\"background material\", fde_solve_material)\n",
    "emeApi.set(\"x\", x_fde)\n",
    "emeApi.set(\"y span\", y_span_fde)\n",
    "emeApi.set(\"y\", y_fde)\n",
    "emeApi.set(\"z span\", z_span_fde )\n",
    "emeApi.set(\"z\", z_fde)\n",
    "emeApi.set(\"z min bc\", \"Metal\")\n",
    "emeApi.set(\"z max bc\", \"Metal\")\n",
    "emeApi.set(\"y min bc\", \"Metal\")\n",
    "emeApi.set(\"y max bc\", \"Metal\")\n",
    "emeApi.set(\"mesh cells z\", mesh_cells)\n",
    "emeApi.set(\"mesh cells y\", mesh_cells)\n",
    "emeApi.set('number of trial modes', number_modes)\n",
    "emeApi.set('wavelength', wavelength)\n",
    "\n",
    "# Add mesh\n",
    "emeApi.addmesh()\n",
    "emeApi.set('set mesh multiplier', True)\n",
    "emeApi.set('x', x_fde)\n",
    "emeApi.set('x span', 0)\n",
    "emeApi.set('x mesh multiplier', mesh_multiplier)\n",
    "emeApi.set('y', y_fde)\n",
    "emeApi.set('y span', wvg_width*1.2)\n",
    "emeApi.set('y mesh multiplier', mesh_multiplier)\n",
    "emeApi.set('z span', wvg_height*1.2)\n",
    "emeApi.set('z', z_fde)"
   ]
  },
  {
   "cell_type": "code",
   "execution_count": 8,
   "metadata": {},
   "outputs": [
    {
     "name": "stdout",
     "output_type": "stream",
     "text": [
      "Índice mode1: [[2.3531702+0.j]]\n",
      "Índice mode2: [[1.7501308+0.j]]\n",
      "Índice de grupo: [[4.3458796+0.j]]\n"
     ]
    }
   ],
   "source": [
    "emeApi.findmodes()\n",
    "n1 = emeApi.getresult('FDE::data::mode1', 'neff')\n",
    "n2 = emeApi.getresult('FDE::data::mode2', 'neff')\n",
    "ng = emeApi.getdata('mode1', 'ng')\n",
    "\n",
    "print(f'Índice mode1: {n1}\\nÍndice mode2: {n2}\\nÍndice de grupo: {ng}')"
   ]
  },
  {
   "cell_type": "markdown",
   "metadata": {},
   "source": [
    "# FSR"
   ]
  },
  {
   "cell_type": "markdown",
   "metadata": {},
   "source": [
    "$$FSR(\\lambda) = \\frac{\\lambda ^2}{n_g(\\lambda)\\Delta L}$$\n",
    "\n",
    "FSR = 1 nm, 10 nm e 20 nm"
   ]
  },
  {
   "cell_type": "code",
   "execution_count": 9,
   "metadata": {},
   "outputs": [
    {
     "data": {
      "text/latex": [
       "$\\displaystyle \\Delta L:$"
      ],
      "text/plain": [
       "<IPython.core.display.Math object>"
      ]
     },
     "metadata": {},
     "output_type": "display_data"
    },
    {
     "name": "stdout",
     "output_type": "stream",
     "text": [
      "[[552.8224937   55.28224937  27.64112468]] µm\n"
     ]
    }
   ],
   "source": [
    "fsr = np.array([1.0, 10.0, 20.0])\n",
    "\n",
    "delta_L = wavelength**2 / (fsr*nm*ng)\n",
    "\n",
    "display(Math(r'\\Delta L:'))\n",
    "print(f\"{delta_L.real / um} µm\")"
   ]
  }
 ],
 "metadata": {
  "kernelspec": {
   "display_name": "Python 3",
   "language": "python",
   "name": "python3"
  },
  "language_info": {
   "codemirror_mode": {
    "name": "ipython",
    "version": 3
   },
   "file_extension": ".py",
   "mimetype": "text/x-python",
   "name": "python",
   "nbconvert_exporter": "python",
   "pygments_lexer": "ipython3",
   "version": "3.11.9"
  }
 },
 "nbformat": 4,
 "nbformat_minor": 2
}
