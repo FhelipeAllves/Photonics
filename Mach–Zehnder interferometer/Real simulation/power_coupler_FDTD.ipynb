{
 "cells": [
  {
   "cell_type": "code",
   "execution_count": 59,
   "metadata": {},
   "outputs": [],
   "source": [
    "import sys, os, imp\n",
    "import numpy as np\n",
    "import matplotlib.pyplot as plt\n",
    "from scipy.constants import lambda2nu, nu2lambda, c"
   ]
  },
  {
   "cell_type": "code",
   "execution_count": 60,
   "metadata": {},
   "outputs": [
    {
     "name": "stderr",
     "output_type": "stream",
     "text": [
      "Exception ignored in: <function Lumerical.__del__ at 0x00000194AC04F600>\n",
      "Traceback (most recent call last):\n",
      "  File \"C:\\Program Files\\Lumerical\\v221\\api\\python\\lumapi.py\", line 1196, in __del__\n",
      "    close(self.handle)\n",
      "  File \"C:\\Program Files\\Lumerical\\v221\\api\\python\\lumapi.py\", line 245, in close\n",
      "    iapi.appClose(handle)\n",
      "ctypes.ArgumentError: argument 1: TypeError: expected Session instance instead of Session\n"
     ]
    }
   ],
   "source": [
    "# lumapiFile = \"/opt/lumerical/v221/api/python/lumapi.py\"\n",
    "lumapiFile = \"C:\\\\Program Files\\\\Lumerical\\\\v221\\\\api\\\\python\\\\lumapi.py\"\n",
    "lumapi = imp.load_source(\"lumapi\", lumapiFile)\n",
    "fdtdApi = lumapi.FDTD(hide = False)"
   ]
  },
  {
   "cell_type": "code",
   "execution_count": 61,
   "metadata": {},
   "outputs": [],
   "source": [
    "# units\n",
    "um = 1e-6\n",
    "nm = 1e-9"
   ]
  },
  {
   "cell_type": "code",
   "execution_count": 62,
   "metadata": {},
   "outputs": [],
   "source": [
    "sub_material = 'SiO2 (Glass) - Palik'\n",
    "core_material = 'Si (Silicon) - Palik'\n",
    "\n",
    "gap = 200*nm\n",
    "\n",
    "x_span_core =  10.35*um # para 50/50 otimizado\n",
    "y_span_core =  450*nm\n",
    "z_span_core =  220*nm\n",
    "\n",
    "x_core = 0*um\n",
    "y_core = y_span_core+gap\n",
    "z_core = 0.0*um\n",
    "\n",
    "wg90Raius = 10*um\n",
    "\n",
    "y_span_guia_reto = 2*um"
   ]
  },
  {
   "cell_type": "markdown",
   "metadata": {},
   "source": [
    "## Create Acoplador Direcional\n"
   ]
  },
  {
   "cell_type": "code",
   "execution_count": 63,
   "metadata": {},
   "outputs": [],
   "source": [
    "fdtdApi.switchtolayout()\n",
    "fdtdApi.deleteall()\n",
    "\n",
    "# Adicionando guias retos - acoplador\n",
    "fdtdApi.addrect()\n",
    "fdtdApi.set(\"name\", \"Lc\")\n",
    "fdtdApi.set(\"material\", core_material)\n",
    "fdtdApi.set(\"x\", x_core)\n",
    "fdtdApi.set(\"x span\", x_span_core)\n",
    "fdtdApi.set(\"y\", y_core)\n",
    "fdtdApi.set(\"y span\", y_span_core)\n",
    "fdtdApi.set(\"z\", z_core)\n",
    "fdtdApi.set(\"z span\", z_span_core)\n",
    "\n",
    "fdtdApi.copy()\n",
    "fdtdApi.set(\"name\", \"Lc_lower\")\n",
    "fdtdApi.set(\"y\", 0)\n",
    "fdtdApi.set('x span', x_span_core + wg90Raius*2 + 4*um)\n",
    "\n",
    "# Adicionando guia bend\n",
    "fdtdApi.addobject(\"90_bend_wg\")\n",
    "fdtdApi.set(\"name\", \"right\")\n",
    "fdtdApi.set(\"base height\", z_span_core)\n",
    "fdtdApi.set(\"base width\", y_span_core)\n",
    "fdtdApi.set(\"first axis\", 'z')\n",
    "fdtdApi.set('radius', wg90Raius)\n",
    "fdtdApi.set('rotation 1', -90)\n",
    "fdtdApi.set('x', x_span_core/2)\n",
    "fdtdApi.set('y', y_core+wg90Raius)\n",
    "fdtdApi.set('z', z_core)\n",
    "fdtdApi.set('material', core_material)\n",
    "\n",
    "fdtdApi.copy()\n",
    "fdtdApi.set(\"name\", \"left\")\n",
    "fdtdApi.set('rotation 1', 180)\n",
    "fdtdApi.set('x', -x_span_core/2)\n",
    "\n",
    "# Adicionando guias retos auxiliares\n",
    "fdtdApi.addrect()\n",
    "fdtdApi.set(\"name\", \"wg_1\")\n",
    "fdtdApi.set(\"material\", core_material)\n",
    "fdtdApi.set(\"x\", -(x_span_core + wg90Raius*2)/2)\n",
    "fdtdApi.set(\"x span\", y_span_core)\n",
    "fdtdApi.set(\"y\", wg90Raius+y_core+y_span_guia_reto/2)\n",
    "fdtdApi.set(\"y span\", y_span_guia_reto)\n",
    "fdtdApi.set(\"z\", z_core)\n",
    "fdtdApi.set(\"z span\", z_span_core)\n",
    "\n",
    "fdtdApi.copy()\n",
    "fdtdApi.set(\"name\", \"wg_2\")\n",
    "fdtdApi.set(\"x\", (x_span_core + wg90Raius*2)/2)\n"
   ]
  },
  {
   "cell_type": "markdown",
   "metadata": {},
   "source": [
    "## Criação Solver FDTD e monitores\n"
   ]
  },
  {
   "cell_type": "code",
   "execution_count": 64,
   "metadata": {},
   "outputs": [],
   "source": [
    "## Banda de operação\n",
    "wvlngth_start = 1500 * nm\n",
    "wvlngth_stop = 1600 * nm\n",
    "nmbFrqPnts = 21\n",
    "\n",
    "## Parâmetros do solver FDTD\n",
    "# Tempo de simulação\n",
    "simulation_time = (np.pi * wg90Raius + x_span_core)*7/ c + 200e-15\n",
    "\n",
    "# Dimensões do volume do solver\n",
    "x_FDTD = 0\n",
    "y_FDTD = 0\n",
    "x_span_FDTD = x_span_core + wg90Raius*2 + 2*um\n",
    "y_span_FDTD = wg90Raius + 2*um + 1.5*um\n",
    "z_span_FDTD = 4*um\n",
    "\n",
    "# Material\n",
    "backGroundMaterial = sub_material\n",
    "\n",
    "# Precisão do mesh\n",
    "mesh_accuracy = 2\n",
    "\n",
    "# Condições de fronteira\n",
    "z_min_bc = \"Symmetric\" # TE mode"
   ]
  },
  {
   "cell_type": "code",
   "execution_count": 65,
   "metadata": {},
   "outputs": [],
   "source": [
    "fdtdApi.switchtolayout()\n",
    "fdtdApi.select('FDTD')\n",
    "fdtdApi.delete()\n",
    "fdtdApi.select('monitor')\n",
    "fdtdApi.delete()\n",
    "\n",
    "\n",
    "# Adiciona o solver\n",
    "fdtdApi.addfdtd()\n",
    "fdtdApi.set(\"x\", x_FDTD)\n",
    "fdtdApi.set(\"x span\", x_span_FDTD)\n",
    "fdtdApi.set(\"y\", wg90Raius/2)\n",
    "fdtdApi.set(\"y span\", y_span_FDTD)\n",
    "fdtdApi.set(\"z\", 0)\n",
    "fdtdApi.set(\"z span\", z_span_FDTD)\n",
    "fdtdApi.set(\"background material\", backGroundMaterial)\n",
    "fdtdApi.set(\"mesh accuracy\", mesh_accuracy)\n",
    "fdtdApi.set(\"simulation time\", simulation_time)\n",
    "fdtdApi.set(\"z min bc\", z_min_bc)\n",
    "\n",
    "fdtdApi.addprofile();\n",
    "fdtdApi.set('name', 'monitor');\n",
    "fdtdApi.set(\"x\", x_FDTD)\n",
    "fdtdApi.set(\"x span\", x_span_FDTD)\n",
    "fdtdApi.set(\"y\", wg90Raius/2)\n",
    "fdtdApi.set(\"y span\", y_span_FDTD)\n",
    "fdtdApi.set(\"z\", 0)\n",
    "fdtdApi.set(\"override global monitor settings\", True)\n",
    "fdtdApi.set(\"frequency points\", nmbFrqPnts)\n",
    "\n",
    "# fdtdApi.addmovie();\n",
    "# fdtdApi.set('name', 'movie');\n",
    "# fdtdApi.set(\"x\", x_FDTD)\n",
    "# fdtdApi.set(\"x span\", x_span_FDTD)\n",
    "# fdtdApi.set(\"y\", wg90Raius/1.7)\n",
    "# fdtdApi.set(\"y span\", y_span_FDTD)\n",
    "# fdtdApi.set(\"z\", 0)"
   ]
  },
  {
   "cell_type": "markdown",
   "metadata": {},
   "source": [
    "## Adiciona portas"
   ]
  },
  {
   "cell_type": "code",
   "execution_count": 66,
   "metadata": {},
   "outputs": [],
   "source": [
    "# Parametros das portas\n",
    "\n",
    "y_span_port = y_span_core*4\n",
    "z_span_port = z_span_core*4\n",
    "# mode_selection = \"fundamental TE mode\"\n",
    "injection_axis_1 = \"y\"\n",
    "injection_axis_2 = \"x\""
   ]
  },
  {
   "cell_type": "code",
   "execution_count": 67,
   "metadata": {},
   "outputs": [],
   "source": [
    "# Adiciona portas na simulação\n",
    "fdtdApi.switchtolayout()\n",
    "fdtdApi.select('FDTD::ports')\n",
    "fdtdApi.delete()\n",
    "\n",
    "\n",
    "fdtdApi.addport()\n",
    "fdtdApi.set(\"name\", \"port upper 1\")\n",
    "fdtdApi.set(\"injection axis\", injection_axis_1)\n",
    "fdtdApi.set(\"x\", -(x_span_core + wg90Raius*2)/2)\n",
    "fdtdApi.set(\"y\", wg90Raius + 1.2*um)\n",
    "fdtdApi.set(\"z\", 0)\n",
    "fdtdApi.set(\"x span\", y_span_port)\n",
    "fdtdApi.set(\"z span\", z_span_port)\n",
    "# fdtdApi.set(\"mode selection\", mode_selection)\n",
    "fdtdApi.set('direction', 'Backward')\n",
    "\n",
    "fdtdApi.copy()\n",
    "fdtdApi.set(\"name\", \"port upper 2\")\n",
    "fdtdApi.set(\"x\", (x_span_core + wg90Raius*2)/2)\n",
    "\n",
    "fdtdApi.addport()\n",
    "fdtdApi.set(\"name\", \"port lower 2\")\n",
    "fdtdApi.set(\"injection axis\", injection_axis_2)\n",
    "fdtdApi.set(\"x\", (x_span_core + wg90Raius*2)/2)\n",
    "fdtdApi.set(\"y\", 0)\n",
    "fdtdApi.set(\"z\", 0)\n",
    "fdtdApi.set(\"y span\", y_span_port)\n",
    "fdtdApi.set(\"z span\", z_span_port)\n",
    "# fdtdApi.set(\"mode selection\", mode_selection)\n",
    "fdtdApi.set('direction', 'Backward')\n",
    "\n",
    "fdtdApi.copy()\n",
    "fdtdApi.set(\"name\", \"port lower 1\")\n",
    "fdtdApi.set(\"x\", -(x_span_core + wg90Raius*2)/2)\n",
    "fdtdApi.set('direction', 'Forward')"
   ]
  },
  {
   "cell_type": "code",
   "execution_count": 68,
   "metadata": {},
   "outputs": [],
   "source": [
    "# Configura a banda de simulação\n",
    "fdtdApi.setnamed(\"FDTD\", \"global source wavelength start\", wvlngth_start)\n",
    "fdtdApi.setnamed(\"FDTD\", \"global source wavelength stop\", wvlngth_stop)\n",
    "fdtdApi.setnamed(\"FDTD::ports\", \"monitor frequency points\", nmbFrqPnts)"
   ]
  },
  {
   "cell_type": "code",
   "execution_count": 69,
   "metadata": {},
   "outputs": [],
   "source": [
    "fdtdApi.save('real_coupler')\n",
    "fdtdApi.run()"
   ]
  }
 ],
 "metadata": {
  "kernelspec": {
   "display_name": "Python 3",
   "language": "python",
   "name": "python3"
  },
  "language_info": {
   "codemirror_mode": {
    "name": "ipython",
    "version": 3
   },
   "file_extension": ".py",
   "mimetype": "text/x-python",
   "name": "python",
   "nbconvert_exporter": "python",
   "pygments_lexer": "ipython3",
   "version": "3.11.9"
  }
 },
 "nbformat": 4,
 "nbformat_minor": 2
}
