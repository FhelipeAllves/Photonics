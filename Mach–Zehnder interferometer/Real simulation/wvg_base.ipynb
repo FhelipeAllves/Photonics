{
 "cells": [
  {
   "cell_type": "code",
   "execution_count": 24,
   "metadata": {},
   "outputs": [],
   "source": [
    "import sys, os, imp\n",
    "import numpy as np\n",
    "import matplotlib.pyplot as plt\n",
    "from scipy.constants import lambda2nu, nu2lambda, c"
   ]
  },
  {
   "cell_type": "code",
   "execution_count": 25,
   "metadata": {},
   "outputs": [],
   "source": [
    "# lumapiFile = \"/opt/lumerical/v221/api/python/lumapi.py\"\n",
    "lumapiFile = \"C:\\\\Program Files\\\\Lumerical\\\\v221\\\\api\\\\python\\\\lumapi.py\"\n",
    "lumapi = imp.load_source(\"lumapi\", lumapiFile)\n",
    "modeAPI = lumapi.MODE(hide = False)"
   ]
  },
  {
   "cell_type": "markdown",
   "metadata": {},
   "source": [
    "# Parameters"
   ]
  },
  {
   "cell_type": "code",
   "execution_count": 26,
   "metadata": {},
   "outputs": [],
   "source": [
    "# units\n",
    "um = 1e-6\n",
    "nm = 1e-9\n",
    "\n",
    "# Materials \n",
    "sub_material = 'SiO2 (Glass) - Palik'\n",
    "core_material = 'Si (Silicon) - Palik'\n",
    "\n",
    "L = 50*um\n",
    "delta_L = np.array([552.82, 55.28, 27.64])*um\n",
    "\n",
    "wavelength = 1550*um\n",
    "\n",
    "wvg_width = 450 * nm\n",
    "wvg_height = 220 * nm\n",
    "\n",
    "cband = True\n",
    "# C Band simulation: 1520 - 1575 nm\n",
    "# L Band simulation: 1555 - 1635 nm\n",
    "if cband:\n",
    "    wvlngth_start = 1.520 * um\n",
    "    wvlngth_stop = 1.575 * um\n",
    "else:\n",
    "    wvlngth_start = 1.555 * um\n",
    "    wvlngth_stop = 1.635 * um"
   ]
  },
  {
   "cell_type": "markdown",
   "metadata": {},
   "source": [
    "# Structure creation"
   ]
  },
  {
   "cell_type": "code",
   "execution_count": 27,
   "metadata": {},
   "outputs": [],
   "source": [
    "modeAPI.switchtolayout()\n",
    "modeAPI.deleteall()\n",
    "\n",
    "modeAPI.addrect()\n",
    "modeAPI.set(\"name\", 'wv')\n",
    "modeAPI.set(\"x\", 0)\n",
    "modeAPI.set(\"x span\", L)\n",
    "modeAPI.set(\"y\", 0)\n",
    "modeAPI.set(\"y span\", wvg_width)\n",
    "modeAPI.set(\"z\", 0)\n",
    "modeAPI.set(\"z span\", wvg_height)\n",
    "modeAPI.set(\"material\", core_material)"
   ]
  },
  {
   "cell_type": "markdown",
   "metadata": {},
   "source": [
    "# Add solver\n"
   ]
  },
  {
   "cell_type": "code",
   "execution_count": 28,
   "metadata": {},
   "outputs": [],
   "source": [
    "modeAPI.switchtolayout()\n",
    "modeAPI.select('FDE')\n",
    "modeAPI.delete()\n",
    "\n",
    "modeAPI.addfde()\n",
    "# modeAPI.set('name', 'Solver')\n",
    "modeAPI.set('solver type', '2D X normal')\n",
    "modeAPI.set('background material', sub_material)\n",
    "modeAPI.set('x', 0)\n",
    "modeAPI.set('y', 0)\n",
    "modeAPI.set('y span', wvg_width*1.5)\n",
    "modeAPI.set('z', 0)\n",
    "modeAPI.set('z span', wvg_height*1.5)"
   ]
  },
  {
   "cell_type": "markdown",
   "metadata": {},
   "source": [
    "# Simulation"
   ]
  },
  {
   "cell_type": "code",
   "execution_count": 36,
   "metadata": {},
   "outputs": [],
   "source": [
    "modeAPI.run()"
   ]
  },
  {
   "cell_type": "code",
   "execution_count": 37,
   "metadata": {},
   "outputs": [],
   "source": [
    "# modeAPI.setanalysis('start wavelength', wvlngth_start)\n",
    "modeAPI.setanalysis('stop wavelength', wvlngth_stop)\n",
    "modeAPI.setanalysis('number of points', 50)\n",
    "modeAPI.setanalysis('number of test modes', 2)\n",
    "modeAPI.setanalysis('track selected mode', 1)\n",
    "modeAPI.setanalysis('detailed dispersion calculation', 1)\n",
    "modeAPI.setanalysis('store mode profiles while tracking', 1)\n",
    "modeAPI.frequencysweep()"
   ]
  }
 ],
 "metadata": {
  "kernelspec": {
   "display_name": "Python 3",
   "language": "python",
   "name": "python3"
  },
  "language_info": {
   "codemirror_mode": {
    "name": "ipython",
    "version": 3
   },
   "file_extension": ".py",
   "mimetype": "text/x-python",
   "name": "python",
   "nbconvert_exporter": "python",
   "pygments_lexer": "ipython3",
   "version": "3.11.9"
  }
 },
 "nbformat": 4,
 "nbformat_minor": 2
}
