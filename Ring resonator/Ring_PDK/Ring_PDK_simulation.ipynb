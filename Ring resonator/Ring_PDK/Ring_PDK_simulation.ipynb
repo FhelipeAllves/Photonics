{
 "cells": [
  {
   "cell_type": "code",
   "execution_count": null,
   "metadata": {},
   "outputs": [],
   "source": [
    "import sys, os, imp\n",
    "import numpy as np\n",
    "import matplotlib.pyplot as plt\n",
    "from scipy.signal import find_peaks\n",
    "from scipy.constants import c"
   ]
  },
  {
   "cell_type": "code",
   "execution_count": null,
   "metadata": {},
   "outputs": [],
   "source": [
    "lumapiFile = \"/opt/lumerical/v221/api/python/lumapi.py\"\n",
    "lumapiFile = \"C:\\\\Program Files\\\\Lumerical\\\\v221\\\\api\\\\python\\\\lumapi.py\"\n",
    "lumapi = imp.load_source(\"lumapi\", lumapiFile)\n",
    "interApi = lumapi.INTERCONNECT(hide = False)"
   ]
  },
  {
   "cell_type": "code",
   "execution_count": null,
   "metadata": {},
   "outputs": [],
   "source": [
    "interApi.expressioncheckoff()"
   ]
  },
  {
   "cell_type": "code",
   "execution_count": null,
   "metadata": {},
   "outputs": [],
   "source": [
    "# units\n",
    "um = 1e-6\n",
    "nm = 1e-9\n",
    "\n",
    "lr = np.array([552.82, 55.28, 27.64])*um\n",
    "\n",
    "wavelength = 1550*nm\n",
    "\n",
    "# index\n",
    "neff = 2.3531702\n",
    "ng = 4.3458796\n",
    "\n",
    "wvlngth_start = 1.500 * um\n",
    "wvlngth_stop = 1.600 * um"
   ]
  },
  {
   "cell_type": "markdown",
   "metadata": {},
   "source": [
    "# Simulation"
   ]
  },
  {
   "cell_type": "markdown",
   "metadata": {},
   "source": [
    "## Add ONA"
   ]
  },
  {
   "cell_type": "code",
   "execution_count": null,
   "metadata": {},
   "outputs": [],
   "source": [
    "interApi.switchtolayout()\n",
    "interApi.select('ONA')\n",
    "interApi.delete()\n",
    "\n",
    "# ONA\n",
    "\n",
    "interApi.addelement('Optical Network Analyzer')\n",
    "interApi.set('name', 'ONA')\n",
    "interApi.set('number of input ports', 2)\n",
    "interApi.set('input parameter', 2)\n",
    "interApi.set('start frequency', c/wvlngth_start)\n",
    "interApi.set('stop frequency', c/wvlngth_stop)"
   ]
  }
 ],
 "metadata": {
  "kernelspec": {
   "display_name": "Python 3",
   "language": "python",
   "name": "python3"
  },
  "language_info": {
   "name": "python",
   "version": "3.11.9"
  }
 },
 "nbformat": 4,
 "nbformat_minor": 2
}
