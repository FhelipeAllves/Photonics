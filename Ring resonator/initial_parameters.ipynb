{
 "cells": [
  {
   "cell_type": "markdown",
   "metadata": {},
   "source": [
    "FSR (Free Spectral Range) is obtained by:\n",
    "$$FSR(\\lambda)=\\frac{\\lambda^2}{n_g L_r}$$\n",
    "Adopting FSR for 1, 10 and 20 nm, the ring length ($L_r$) is determined for each case:\n",
    "$$L_r=\\frac{\\lambda^2}{n_g FSR(\\lambda)}$$"
   ]
  },
  {
   "cell_type": "code",
   "execution_count": 12,
   "metadata": {},
   "outputs": [
    {
     "name": "stdout",
     "output_type": "stream",
     "text": [
      "Ring length: [552.82249421  55.28224942  27.64112471] um\n"
     ]
    }
   ],
   "source": [
    "import numpy as np\n",
    "\n",
    "nm = 1e-9\n",
    "um = 1e-6\n",
    "\n",
    "wavelength = 1550*nm\n",
    "    \n",
    "# index\n",
    "neff = 2.3531702\n",
    "ng = 4.3458796\n",
    "\n",
    "fsr = np.array([1, 10, 20])*nm\n",
    "\n",
    "lr = wavelength**2 / (ng * fsr)\n",
    "\n",
    "print('Ring length:' , lr/um, 'um')\n"
   ]
  }
 ],
 "metadata": {
  "kernelspec": {
   "display_name": "Python 3",
   "language": "python",
   "name": "python3"
  },
  "language_info": {
   "codemirror_mode": {
    "name": "ipython",
    "version": 3
   },
   "file_extension": ".py",
   "mimetype": "text/x-python",
   "name": "python",
   "nbconvert_exporter": "python",
   "pygments_lexer": "ipython3",
   "version": "3.11.9"
  }
 },
 "nbformat": 4,
 "nbformat_minor": 2
}
