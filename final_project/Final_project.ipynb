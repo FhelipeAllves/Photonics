{
 "cells": [
  {
   "cell_type": "markdown",
   "metadata": {},
   "source": [
    "## Final Project"
   ]
  },
  {
   "cell_type": "code",
   "execution_count": 19,
   "metadata": {},
   "outputs": [],
   "source": [
    "import sys, os, imp\n",
    "import numpy as np\n",
    "import matplotlib.pyplot as plt\n",
    "from scipy.constants import lambda2nu, nu2lambda, c"
   ]
  },
  {
   "cell_type": "code",
   "execution_count": 20,
   "metadata": {},
   "outputs": [],
   "source": [
    "# lumapiFile = \"/opt/lumerical/v221/api/python/lumapi.py\"\n",
    "lumapiFile = \"C:\\\\Program Files\\\\Lumerical\\\\v221\\\\api\\\\python\\\\lumapi.py\"\n",
    "lumapi = imp.load_source(\"lumapi\", lumapiFile)\n",
    "fdtdAPI = lumapi.FDTD(hide = False)"
   ]
  },
  {
   "cell_type": "markdown",
   "metadata": {},
   "source": [
    "## Parameters"
   ]
  },
  {
   "cell_type": "code",
   "execution_count": 21,
   "metadata": {},
   "outputs": [],
   "source": [
    "# units\n",
    "um = 1e-6\n",
    "nm = 1e-9"
   ]
  },
  {
   "cell_type": "code",
   "execution_count": 22,
   "metadata": {},
   "outputs": [],
   "source": [
    "# Materials \n",
    "sub_material = 'SiO2 (Glass) - Palik'\n",
    "core_material = 'Si (Silicon) - Palik'"
   ]
  },
  {
   "cell_type": "code",
   "execution_count": 23,
   "metadata": {},
   "outputs": [],
   "source": [
    "# Waveguide parameters\n",
    "wvg_width = 500 * nm\n",
    "wvg_height = 220 * nm\n",
    "L_box = 2 * um\n",
    "L_rect = 3 * um\n",
    "space = 0.2 * um\n",
    "\n",
    "# Bandwidth operation\n",
    "option = 3\n",
    "# C Band simulation: 1520 - 1575 nm (1)\n",
    "# L Band simulation: 1555 - 1635 nm (2)\n",
    "# Article Band:      1500 - 1580 nm (3)\n",
    "if option == 1:\n",
    "    wvlngth_start = 1.520 * um\n",
    "    wvlngth_stop = 1.575 * um\n",
    "elif option == 2:\n",
    "    wvlngth_start = 1.555 * um\n",
    "    wvlngth_stop = 1.635 * um\n",
    "else:\n",
    "    wvlngth_start = 1.500 * um\n",
    "    wvlngth_stop = 1.580 * um\n",
    "\n",
    "\n",
    "filename = \"splitter_base\" "
   ]
  },
  {
   "cell_type": "markdown",
   "metadata": {},
   "source": [
    "## Create base geometry"
   ]
  },
  {
   "cell_type": "code",
   "execution_count": 24,
   "metadata": {},
   "outputs": [],
   "source": [
    "fdtdAPI.switchtolayout()\n",
    "fdtdAPI.deleteall()\n",
    "\n",
    "\n",
    "#INPUT WAVEGUIDE\n",
    "fdtdAPI.addrect()\n",
    "fdtdAPI.set('name', 'input wg')\n",
    "fdtdAPI.set('material', core_material)\n",
    "fdtdAPI.set('x span', L_rect)\n",
    "fdtdAPI.set('y span', wvg_width)\n",
    "fdtdAPI.set('z span', wvg_height)\n",
    "fdtdAPI.set('y', 0)\n",
    "fdtdAPI.set('x', -(L_rect/2 + L_box/2))\n",
    "fdtdAPI.set('z', 0)\n",
    "\n",
    "#OUTPUT WAVEGUIDES\n",
    "fdtdAPI.addrect()\n",
    "fdtdAPI.set('name', 'output wg top')\n",
    "fdtdAPI.set('material', core_material)\n",
    "fdtdAPI.set('x span', L_rect)\n",
    "fdtdAPI.set('y span', wvg_width)\n",
    "fdtdAPI.set('z span', wvg_height)\n",
    "fdtdAPI.set('y', wvg_width/2 + space/2)\n",
    "fdtdAPI.set('x', L_rect/2 + L_box/2)\n",
    "fdtdAPI.set('z', 0)\n",
    "\n",
    "fdtdAPI.addrect()\n",
    "fdtdAPI.set('name', 'output wg bottom')\n",
    "fdtdAPI.set('material', core_material)\n",
    "fdtdAPI.set('x span', L_rect)\n",
    "fdtdAPI.set('y span', wvg_width)\n",
    "fdtdAPI.set('z span', wvg_height)\n",
    "fdtdAPI.set('y', -(wvg_width/2 + space/2))\n",
    "fdtdAPI.set('x', L_rect/2 + L_box/2)\n",
    "fdtdAPI.set('z', 0)"
   ]
  },
  {
   "cell_type": "markdown",
   "metadata": {},
   "source": [
    "## Add Solver and monitors"
   ]
  },
  {
   "cell_type": "code",
   "execution_count": 25,
   "metadata": {},
   "outputs": [],
   "source": [
    "# Solver dimensions\n",
    "x_FDTD = 0\n",
    "y_FDTD = 0\n",
    "z_FDTD = 0\n",
    "x_span_FDTD = L_box*1.5\n",
    "y_span_FDTD = L_box*1.5\n",
    "z_span_FDTD = 0.5*um\n",
    "\n",
    "mesh_x = 20 * nm\n",
    "mesh_y = 20 * nm\n",
    "finer_mesh_size = 2.5 * um\n",
    "\n",
    "pml_layers = 12 #For all profiles, increasing the number of layers will usually lead to lower reflections.\n",
    "mesh_accuracy = 2\n",
    "condition = 'Anti-Symmetric'"
   ]
  },
  {
   "cell_type": "code",
   "execution_count": 28,
   "metadata": {},
   "outputs": [],
   "source": [
    "fdtdAPI.switchtolayout()\n",
    "fdtdAPI.select('FDTD')\n",
    "fdtdAPI.delete()\n",
    "fdtdAPI.select('mesh')\n",
    "fdtdAPI.delete()\n",
    "fdtdAPI.select('opt_fields')\n",
    "fdtdAPI.delete()\n",
    "fdtdAPI.select('fom')\n",
    "fdtdAPI.delete()\n",
    "\n",
    "# Add Solver FDTD 2D\n",
    "fdtdAPI.addfdtd()\n",
    "fdtdAPI.set('dimension', '2D')\n",
    "fdtdAPI.set(\"background material\", sub_material)\n",
    "fdtdAPI.set(\"mesh accuracy\", mesh_accuracy)\n",
    "fdtdAPI.set('force symmetric y mesh', True)\n",
    "fdtdAPI.set(\"y min bc\", condition )\n",
    "fdtdAPI.set('pml layers', pml_layers)\n",
    "fdtdAPI.set(\"x\", x_FDTD)\n",
    "fdtdAPI.set(\"x span\", x_span_FDTD)\n",
    "fdtdAPI.set(\"y\", y_FDTD)\n",
    "fdtdAPI.set(\"y span\", y_span_FDTD)\n",
    "fdtdAPI.set(\"z\", z_FDTD)\n",
    "\n",
    "# Add Mesh\n",
    "fdtdAPI.addmesh() \n",
    "fdtdAPI.set(\"x\", x_FDTD)\n",
    "fdtdAPI.set(\"x span\", finer_mesh_size + 2.0*mesh_x)\n",
    "fdtdAPI.set(\"y\", y_FDTD)\n",
    "fdtdAPI.set(\"y span\", finer_mesh_size)\n",
    "fdtdAPI.set(\"z\", z_FDTD)\n",
    "fdtdAPI.set(\"z span\", z_span_FDTD)\n",
    "\n",
    "# Add Monitors\n",
    "fdtdAPI.addpower()\n",
    "fdtdAPI.set('name', 'opt_fields')\n",
    "fdtdAPI.set('monitor type', '2D z-normal')\n",
    "fdtdAPI.set('x', x_FDTD)\n",
    "fdtdAPI.set('x span', finer_mesh_size)\n",
    "fdtdAPI.set('y', y_FDTD)\n",
    "fdtdAPI.set('y span', finer_mesh_size)\n",
    "\n",
    "# Add FOM\n",
    "fdtdAPI.addpower()\n",
    "fdtdAPI.set('name', 'fom')\n",
    "fdtdAPI.set('monitor type', '2D x-normal')\n",
    "fdtdAPI.set('x', finer_mesh_size/2.0)\n",
    "fdtdAPI.set('y', 0)\n",
    "fdtdAPI.set('y span', y_span_FDTD)\n",
    "fdtdAPI.set('z', z_FDTD)\n",
    "fdtdAPI.set('z span', 1.2*um)"
   ]
  }
 ],
 "metadata": {
  "kernelspec": {
   "display_name": "Python 3",
   "language": "python",
   "name": "python3"
  },
  "language_info": {
   "codemirror_mode": {
    "name": "ipython",
    "version": 3
   },
   "file_extension": ".py",
   "mimetype": "text/x-python",
   "name": "python",
   "nbconvert_exporter": "python",
   "pygments_lexer": "ipython3",
   "version": "3.11.9"
  }
 },
 "nbformat": 4,
 "nbformat_minor": 2
}
